{
  "nbformat": 4,
  "nbformat_minor": 0,
  "metadata": {
    "colab": {
      "provenance": [],
      "authorship_tag": "ABX9TyP5dYRJWeogXNMdhn4Pb31n",
      "include_colab_link": true
    },
    "kernelspec": {
      "name": "python3",
      "display_name": "Python 3"
    },
    "language_info": {
      "name": "python"
    }
  },
  "cells": [
    {
      "cell_type": "markdown",
      "metadata": {
        "id": "view-in-github",
        "colab_type": "text"
      },
      "source": [
        "<a href=\"https://colab.research.google.com/github/Ilikesushi37/HacktheHood/blob/main/lab_jun17.ipynb\" target=\"_parent\"><img src=\"https://colab.research.google.com/assets/colab-badge.svg\" alt=\"Open In Colab\"/></a>"
      ]
    },
    {
      "cell_type": "markdown",
      "source": [
        "# Lab June. 17\n",
        "\n",
        "Intro to Pseudo Code\n",
        "\n"
      ],
      "metadata": {
        "id": "0m33jmiZzpa2"
      }
    },
    {
      "cell_type": "markdown",
      "source": [
        "### Psudo code for my aplication\n",
        "\n",
        "I want to write a program that takes use input and prints it back to the screen\n",
        "\n",
        "'first_name' the user's first name\n",
        "\n",
        "'last_name' the user's last nam\n",
        "\n",
        "'age' the user's age\n",
        "\n",
        "'fav_color' the user's favorite color\n",
        "\n",
        "'fav_sport' the user's favorite sport\n",
        "\n",
        "'fav_team' the user's favorite team\n",
        "\n",
        "use a 'built-in' process to take user's data.\n",
        "\n",
        "user a 'built-in' process to display user's data'\n"
      ],
      "metadata": {
        "id": "ywWmaCYF0S40"
      }
    },
    {
      "cell_type": "markdown",
      "source": [
        "First_name = 'John'\n",
        "\n",
        "Last_Name = 'Connor'\n",
        "\n",
        "Age = 23\n",
        "\n",
        "Fav_Colour = 'Gray'\n",
        "\n",
        "Fav_Sport = 'Soccer'\n",
        "\n",
        "Fav_Team = 'Man U'\n",
        "\n"
      ],
      "metadata": {
        "id": "D14fUNMp3GZ7"
      }
    },
    {
      "cell_type": "code",
      "source": [
        "First_name = input('What is your first name?')\n",
        "Last_Name = input('What is your last name?')\n",
        "Age = input('What is your age?')\n",
        "Fav_Colour = input('What is your favourite color?')\n",
        "Fav_Sport = input('What is your favourite sport?')\n",
        "Fav_Team = input('What is your favourite team?')"
      ],
      "metadata": {
        "colab": {
          "base_uri": "https://localhost:8080/"
        },
        "id": "4B0Zxz1P3n_O",
        "outputId": "73954aed-be47-4ea4-d3ed-ea8661586121"
      },
      "execution_count": 7,
      "outputs": [
        {
          "name": "stdout",
          "output_type": "stream",
          "text": [
            "What is your first name?lanna\n",
            "What is your last name?sae\n",
            "What is your age?16\n",
            "What is your favourite color?blue\n",
            "What is your favourite sport?tennis\n",
            "What is your favourite team?badminton\n"
          ]
        }
      ]
    },
    {
      "cell_type": "code",
      "source": [
        "print(f\"User first name is, {First_name}, last name is, {Last_Name}, age is, {Age},\\\n",
        " favourite colour is, {Fav_Colour}, favourite sport is, {Fav_Sport}, favourite team is, {Fav_Team}\")\n",
        "# f means formating here (makes placeholders for the values)\n",
        "# curly brackets used for input variables (the questions)\n",
        "# these variables were already defined previously"
      ],
      "metadata": {
        "colab": {
          "base_uri": "https://localhost:8080/"
        },
        "id": "oE4_lv-W4If2",
        "outputId": "10f530a9-ca4b-40f8-a897-44b0e85b7c2a"
      },
      "execution_count": 8,
      "outputs": [
        {
          "output_type": "stream",
          "name": "stdout",
          "text": [
            "User first name is, lanna, last name is, sae, age is, 16, favourite colour is, blue, favourite sport is, tennis, favourite team is, badminton\n"
          ]
        }
      ]
    }
  ]
}